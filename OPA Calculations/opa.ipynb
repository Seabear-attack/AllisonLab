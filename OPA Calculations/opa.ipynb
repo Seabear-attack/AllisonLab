{
 "cells": [
  {
   "cell_type": "markdown",
   "metadata": {},
   "source": [
    "## Spot Size Calculations"
   ]
  },
  {
   "cell_type": "code",
   "execution_count": 2,
   "metadata": {},
   "outputs": [
    {
     "name": "stdout",
     "output_type": "stream",
     "text": [
      "1/e^2 beam radius:  253.27 um\n",
      "FWHM beam diameter:  298.14 um\n"
     ]
    }
   ],
   "source": [
    "import numpy as np\n",
    "rep_rate_MHz = 60.65\n",
    "power_W = 55\n",
    "damage_threshold_GW_cm2 = 10\n",
    "pulse_duration_fs = 45\n",
    "\n",
    "pulse_energy_J = power_W / (rep_rate_MHz * 10 ** 6)\n",
    "pulse_peak_power_W = pulse_energy_J / (pulse_duration_fs * 10 ** (-15))\n",
    "spot_area_m2 = pulse_peak_power_W / (damage_threshold_GW_cm2 * 10 ** 13)\n",
    "spot_radius_m = (spot_area_m2 / np.pi) ** .5\n",
    "\n",
    "spot_radius_um = spot_radius_m * 10 ** 6\n",
    "print(f'1/e^2 beam radius: {spot_radius_um : .2f} um')\n",
    "print(f'FWHM beam diameter: {2 * spot_radius_um / 1.699: .2f} um')"
   ]
  },
  {
   "cell_type": "code",
   "execution_count": null,
   "metadata": {},
   "outputs": [],
   "source": []
  }
 ],
 "metadata": {
  "kernelspec": {
   "display_name": "LabDataAnalysis",
   "language": "python",
   "name": "python3"
  },
  "language_info": {
   "codemirror_mode": {
    "name": "ipython",
    "version": 3
   },
   "file_extension": ".py",
   "mimetype": "text/x-python",
   "name": "python",
   "nbconvert_exporter": "python",
   "pygments_lexer": "ipython3",
   "version": "3.10.10"
  }
 },
 "nbformat": 4,
 "nbformat_minor": 2
}
